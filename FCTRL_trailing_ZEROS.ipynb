{
 "cells": [
  {
   "cell_type": "code",
   "execution_count": null,
   "metadata": {},
   "outputs": [],
   "source": [
    "#FACTORIAL-Trailing ZEROS#\n",
    "\n",
    "#Take the number that you’ve been given the factorial of.\n",
    "#Divide by 5; if you get a decimal, truncate to a whole number.\n",
    "#Divide by 5^2 = 25; if you get a decimal, truncate to a whole number.\n",
    "#Divide by 5^3 = 125; if you get a decimal, truncate to a whole number.\n",
    "#Continue with ever-higher powers of 5, until your division results in a number less than 1. \n",
    "#Once the division is less than 1, stop.\n",
    "#Sum all the whole numbers you got in your divisions. This is the number of trailing zeroes.\n",
    "##########################################################################################################\n",
    "def findcount(b): \n",
    "    count = 0\n",
    "    i=5\n",
    "    while (b/i>=1): \n",
    "        count = count+int(b/i) \n",
    "        i=i*5\n",
    "    return int(count) \n",
    "    \n",
    "c= int(input(\"\"))\n",
    "while(c>0):\n",
    "    a=int(input(\"\"))\n",
    "    print(findcount(a))\n",
    "    c=c-1"
   ]
  }
 ],
 "metadata": {
  "kernelspec": {
   "display_name": "Python 3",
   "language": "python",
   "name": "python3"
  },
  "language_info": {
   "codemirror_mode": {
    "name": "ipython",
    "version": 3
   },
   "file_extension": ".py",
   "mimetype": "text/x-python",
   "name": "python",
   "nbconvert_exporter": "python",
   "pygments_lexer": "ipython3",
   "version": "3.7.3"
  }
 },
 "nbformat": 4,
 "nbformat_minor": 2
}
