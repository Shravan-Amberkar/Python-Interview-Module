{
 "cells": [
  {
   "cell_type": "code",
   "execution_count": 1,
   "metadata": {},
   "outputs": [
    {
     "name": "stdout",
     "output_type": "stream",
     "text": [
      "hello\n"
     ]
    }
   ],
   "source": [
    "###################################################\n",
    "#  PALIN - The Next Palindrome - PERFECT SOLUTION #\n",
    "###################################################\n",
    "try:\n",
    "    def calc(K):\n",
    "        length = len(K)\n",
    "        l = len(K)//2\n",
    "        str1 = K[0:l]\n",
    "        str2 = str1[::-1]\n",
    "        if K.count(\"9\")==length:\n",
    "            ans = \"1\"+\"0\"*(length-1)+\"1\"\n",
    "            return ans\n",
    "        \n",
    "        if length%2==0:\n",
    "            num = str1 + str2\n",
    "            if num>K:\n",
    "                ans = num\n",
    "                return ans\n",
    "            else:\n",
    "                num = str(int(str1)+1)\n",
    "                ans = num+num[::-1]\n",
    "                return ans\n",
    "        else:\n",
    "            num = str1+K[l]+str2\n",
    "            if num>K:\n",
    "                ans = num\n",
    "                return ans\n",
    "            else:\n",
    "                c = str(int(str1+K[l])+1)\n",
    "                num = c+c[0:-1][::-1]\n",
    "                ans = num\n",
    "                return ans\n",
    "\n",
    "    T = int(input())\n",
    "    for z in range(T):\n",
    "        K = input()\n",
    "        print(calc(K))\n",
    "\n",
    "except EOFError:\n",
    "    None\n",
    "except ValueError:\n",
    "    None"
   ]
  },
  {
   "cell_type": "code",
   "execution_count": null,
   "metadata": {},
   "outputs": [],
   "source": [
    "##############################\n",
    "# PRIME GENERATOR- 9 secs    #\n",
    "##############################\n",
    "\n",
    "from math import sqrt\n",
    "try:\n",
    "    def check_prime(n):\n",
    "        x=int(sqrt(n))\n",
    "        if n<=1:\n",
    "            return False\n",
    "        if n<=3:\n",
    "            return True\n",
    "        if n%2==0 or n%3==0:\n",
    "            return False\n",
    "        i=5\n",
    "        while i<=x:\n",
    "            if n%i==0 or n%(i+2)==0:\n",
    "                return False\n",
    "            i=i+6\n",
    "        return True\n",
    "\n",
    "    t=int(input())\n",
    "    while t>0:\n",
    "        m,n=map(int,input().split( ))\n",
    "        for i in range(m,n+1):\n",
    "            if check_prime(i) or i==2:\n",
    "                print(i)\n",
    "        #print()\n",
    "        t-=1\n",
    "except EOFError:\n",
    "    None\n",
    "except ValueError:\n",
    "    None"
   ]
  },
  {
   "cell_type": "code",
   "execution_count": null,
   "metadata": {},
   "outputs": [],
   "source": [
    "##############################\n",
    "# PRIME GENERATOR- 5.6 secs  #\n",
    "##############################\n",
    "\n",
    "def primes_up_to_n(n):\n",
    "    all_ = [ {\"number\": i, \"value\": True} for i in range(n) ]\n",
    "    all_[0][\"value\"] = False\n",
    "    all_[1][\"value\"] = False\n",
    "    \n",
    "    def _get_first(full_list):\n",
    "        for element in full_list:\n",
    "            if element[\"value\"]:\n",
    "                return element\n",
    "\n",
    "    first = _get_first(all_) \n",
    "    while first:\n",
    "        yield first[\"number\"]\n",
    "        for i in range(0, n, first[\"number\"]):\n",
    "            all_[i][\"value\"] = False\n",
    "        first = _get_first(all_) \n",
    "\n",
    "\n",
    "def is_prime(num, primes_to_try):\n",
    "    if num == 1:\n",
    "        return False\n",
    "    else:\n",
    "        for p in primes_to_try:\n",
    "            if num == p:\n",
    "                return True\n",
    "            if num % p == 0:\n",
    "                return False\n",
    "        return True\n",
    "\n",
    "\n",
    "if __name__ == \"__main__\":\n",
    "    t = int(input())\n",
    "    for t in range(t):\n",
    "        n, m = map(int, input().split())\n",
    "        max_primes = list(primes_up_to_n(int(m**0.5) + 1))\n",
    "        for i in range(n, m + 1):\n",
    "            if is_prime(i, primes_to_try=max_primes):\n",
    "                print(i)"
   ]
  },
  {
   "cell_type": "code",
   "execution_count": 19,
   "metadata": {},
   "outputs": [
    {
     "name": "stdout",
     "output_type": "stream",
     "text": [
      "{'hello': 1, 'shravan': 2, 'how': 1, 'are': 1, 'you': 1, 'and': 3, 'what': 2, 'is': 2, 'when': 2}\n",
      "[('and', 3), ('shravan', 2), ('what', 2), ('is', 2), ('when', 2), ('hello', 1), ('how', 1), ('are', 1), ('you', 1)]\n"
     ]
    }
   ],
   "source": [
    "#for word count#\n",
    "mystring=\"hello shravan how are you shravan and and what is what and when is when\"\n",
    "count={}\n",
    "for word in mystring.split():\n",
    "    count[word]=count.get(word,0)+1\n",
    "    sorted_count = sorted(count.items(), key=lambda kv: kv[1],reverse=True)\n",
    "print(count)\n",
    "print(sorted_count)\n"
   ]
  }
 ],
 "metadata": {
  "kernelspec": {
   "display_name": "Python 3",
   "language": "python",
   "name": "python3"
  },
  "language_info": {
   "codemirror_mode": {
    "name": "ipython",
    "version": 3
   },
   "file_extension": ".py",
   "mimetype": "text/x-python",
   "name": "python",
   "nbconvert_exporter": "python",
   "pygments_lexer": "ipython3",
   "version": "3.7.3"
  }
 },
 "nbformat": 4,
 "nbformat_minor": 2
}
