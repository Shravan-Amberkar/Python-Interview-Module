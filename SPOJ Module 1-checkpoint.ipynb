{
 "cells": [
  {
   "cell_type": "code",
   "execution_count": null,
   "metadata": {},
   "outputs": [],
   "source": []
  },
  {
   "cell_type": "code",
   "execution_count": 3,
   "metadata": {},
   "outputs": [
    {
     "name": "stdout",
     "output_type": "stream",
     "text": [
      "4\n",
      "1221\n",
      "1331\n",
      "1000000000001\n",
      "1000001000001\n",
      "4545\n",
      "4554\n",
      "555\n",
      "565\n"
     ]
    }
   ],
   "source": [
    "#####################################################\n",
    "#  PALIN - The Next Palindrome (EXCEEDS TIME LIMIT) #\n",
    "#####################################################\n",
    "try:\n",
    "    t=int(input())\n",
    "    while t!=0:\n",
    "        b=int(input())\n",
    "        k=b+1\n",
    "        t-=1\n",
    "        while True:\n",
    "            elif str(k)!=str(k)[::-1]:\n",
    "                k+=1\n",
    "            elif str(k)==str(k)[::-1]:\n",
    "                break\n",
    "        print(k)\n",
    "\n",
    "except EOFError:\n",
    "    None\n",
    "except ValueError:\n",
    "    None"
   ]
  },
  {
   "cell_type": "code",
   "execution_count": 27,
   "metadata": {},
   "outputs": [
    {
     "name": "stdout",
     "output_type": "stream",
     "text": [
      "2\n",
      "5\n",
      "6\n",
      "6\n",
      "7\n"
     ]
    }
   ],
   "source": [
    "###################################################\n",
    "#  PALIN - The Next Palindrome - PERFECT SOLUTION #\n",
    "###################################################\n",
    "try:\n",
    "    def calc(K):\n",
    "        length = len(K)\n",
    "        l = len(K)//2\n",
    "        str1 = K[0:l]\n",
    "        str2 = str1[::-1]\n",
    "        if K.count(\"9\")==length:\n",
    "            ans = \"1\"+\"0\"*(length-1)+\"1\"\n",
    "            return ans\n",
    "        \n",
    "        if length%2==0:\n",
    "            num = str1 + str2\n",
    "            if num>K:\n",
    "                ans = num\n",
    "                return ans\n",
    "            else:\n",
    "                num = str(int(str1)+1)\n",
    "                ans = num+num[::-1]\n",
    "                return ans\n",
    "        else:\n",
    "            num = str1+K[l]+str2\n",
    "            if num>K:\n",
    "                ans = num\n",
    "                return ans\n",
    "            else:\n",
    "                c = str(int(str1+K[l])+1)\n",
    "                num = c+c[0:-1][::-1]\n",
    "                ans = num\n",
    "                return ans\n",
    "\n",
    "    T = int(input())\n",
    "    for z in range(T):\n",
    "        K = input()\n",
    "        print(calc(K))\n",
    "\n",
    "except EOFError:\n",
    "    None\n",
    "except ValueError:\n",
    "    None"
   ]
  },
  {
   "cell_type": "code",
   "execution_count": 19,
   "metadata": {},
   "outputs": [],
   "source": [
    "result={}\n",
    "T = int(input())\n",
    "    for z in range(T):\n",
    "        for w in range(12):\n",
    "            data = input()\n",
    "            (player_1,goal_1,ignore,goal_2,player_2)=data.split()\n",
    "            (goals_scored,goals_received)=(0,0)\n",
    "            if int(goal_1)>int(goal_2):\n",
    "                result[player_1]+=3\n",
    "                \n",
    "            (goal_scored,goal_recieved)=(0,0)\n",
    "            (winner)\n",
    "            \n",
    "            "
   ]
  },
  {
   "cell_type": "code",
   "execution_count": 18,
   "metadata": {
    "scrolled": true
   },
   "outputs": [
    {
     "ename": "NameError",
     "evalue": "name 'player1' is not defined",
     "output_type": "error",
     "traceback": [
      "\u001b[1;31m---------------------------------------------------------------------------\u001b[0m",
      "\u001b[1;31mNameError\u001b[0m                                 Traceback (most recent call last)",
      "\u001b[1;32m<ipython-input-18-8b027231070b>\u001b[0m in \u001b[0;36m<module>\u001b[1;34m\u001b[0m\n\u001b[0;32m      4\u001b[0m \u001b[1;32mfor\u001b[0m \u001b[0mi\u001b[0m \u001b[1;32min\u001b[0m \u001b[1;33m(\u001b[0m\u001b[0mb\u001b[0m\u001b[1;33m,\u001b[0m\u001b[0mc\u001b[0m\u001b[1;33m)\u001b[0m\u001b[1;33m:\u001b[0m\u001b[1;33m\u001b[0m\u001b[1;33m\u001b[0m\u001b[0m\n\u001b[0;32m      5\u001b[0m     \u001b[1;32mif\u001b[0m \u001b[0mint\u001b[0m\u001b[1;33m(\u001b[0m\u001b[0mb\u001b[0m\u001b[1;33m)\u001b[0m\u001b[1;33m>\u001b[0m\u001b[0mint\u001b[0m\u001b[1;33m(\u001b[0m\u001b[0mc\u001b[0m\u001b[1;33m)\u001b[0m\u001b[1;33m:\u001b[0m\u001b[1;33m\u001b[0m\u001b[1;33m\u001b[0m\u001b[0m\n\u001b[1;32m----> 6\u001b[1;33m         \u001b[0mbo\u001b[0m\u001b[1;33m[\u001b[0m\u001b[0mplayer1\u001b[0m\u001b[1;33m]\u001b[0m\u001b[1;33m[\u001b[0m\u001b[1;36m0\u001b[0m\u001b[1;33m]\u001b[0m\u001b[1;33m+=\u001b[0m\u001b[1;36m3\u001b[0m\u001b[1;33m\u001b[0m\u001b[1;33m\u001b[0m\u001b[0m\n\u001b[0m\u001b[0;32m      7\u001b[0m     \u001b[1;32melif\u001b[0m \u001b[0mint\u001b[0m\u001b[1;33m(\u001b[0m\u001b[0mc\u001b[0m\u001b[1;33m)\u001b[0m\u001b[1;33m>\u001b[0m\u001b[0mint\u001b[0m\u001b[1;33m(\u001b[0m\u001b[0mb\u001b[0m\u001b[1;33m)\u001b[0m\u001b[1;33m:\u001b[0m\u001b[1;33m\u001b[0m\u001b[1;33m\u001b[0m\u001b[0m\n\u001b[0;32m      8\u001b[0m         \u001b[0mbo\u001b[0m\u001b[1;33m[\u001b[0m\u001b[0mplayer2\u001b[0m\u001b[1;33m]\u001b[0m\u001b[1;33m[\u001b[0m\u001b[1;36m0\u001b[0m\u001b[1;33m]\u001b[0m\u001b[1;33m+=\u001b[0m\u001b[1;36m3\u001b[0m\u001b[1;33m\u001b[0m\u001b[1;33m\u001b[0m\u001b[0m\n",
      "\u001b[1;31mNameError\u001b[0m: name 'player1' is not defined"
     ]
    }
   ],
   "source": [
    "bo={}\n",
    "mylist=\"manutd 8 vs. 2 arsenal\"\n",
    "(a,b,ignore,c,d)=mylist.split()\n",
    "for i in (b,c):\n",
    "    if int(b)>int(c):\n",
    "        bo[player1][0]+=3\n",
    "    elif int(c)>int(b):\n",
    "        bo[player2][0]+=3\n",
    "    elif int(b)==int(c):\n",
    "        bo[player1][0]+=1\n",
    "        bo[player2][0]+=1\n",
    "    print(bo)"
   ]
  },
  {
   "cell_type": "code",
   "execution_count": 11,
   "metadata": {},
   "outputs": [
    {
     "name": "stdout",
     "output_type": "stream",
     "text": [
      "1\n",
      "1 3\n",
      "2\n",
      "3\n"
     ]
    }
   ],
   "source": [
    "T = int(input())\n",
    "for z in range(T):\n",
    "    k=input()\n",
    "    (m,n)=k.split()\n",
    "    for num in range(int(m),int(n)+1): # for num=1 in range(1,10)\n",
    "        if num > 1:\n",
    "            for i in range(2,num):\n",
    "                if (num % i) == 0:\n",
    "                    break\n",
    "            else:\n",
    "                print(num)"
   ]
  },
  {
   "cell_type": "code",
   "execution_count": 2,
   "metadata": {},
   "outputs": [
    {
     "name": "stdout",
     "output_type": "stream",
     "text": [
      "2\n",
      "16 25\n"
     ]
    },
    {
     "ename": "IndexError",
     "evalue": "list assignment index out of range",
     "output_type": "error",
     "traceback": [
      "\u001b[1;31m---------------------------------------------------------------------------\u001b[0m",
      "\u001b[1;31mIndexError\u001b[0m                                Traceback (most recent call last)",
      "\u001b[1;32m<ipython-input-2-637896e408de>\u001b[0m in \u001b[0;36m<module>\u001b[1;34m\u001b[0m\n\u001b[0;32m     10\u001b[0m         \u001b[1;31m# Update all multiples of p\u001b[0m\u001b[1;33m\u001b[0m\u001b[1;33m\u001b[0m\u001b[1;33m\u001b[0m\u001b[0m\n\u001b[0;32m     11\u001b[0m             \u001b[1;32mfor\u001b[0m \u001b[0mi\u001b[0m \u001b[1;32min\u001b[0m \u001b[0mrange\u001b[0m\u001b[1;33m(\u001b[0m\u001b[0mp\u001b[0m \u001b[1;33m*\u001b[0m \u001b[1;36m2\u001b[0m\u001b[1;33m,\u001b[0m \u001b[0mint\u001b[0m\u001b[1;33m(\u001b[0m\u001b[0mn\u001b[0m\u001b[1;33m)\u001b[0m \u001b[1;33m+\u001b[0m \u001b[1;36m1\u001b[0m\u001b[1;33m,\u001b[0m \u001b[0mp\u001b[0m\u001b[1;33m)\u001b[0m\u001b[1;33m:\u001b[0m\u001b[1;33m\u001b[0m\u001b[1;33m\u001b[0m\u001b[0m\n\u001b[1;32m---> 12\u001b[1;33m                 \u001b[0mprime\u001b[0m\u001b[1;33m[\u001b[0m\u001b[0mi\u001b[0m\u001b[1;33m]\u001b[0m \u001b[1;33m=\u001b[0m \u001b[1;32mFalse\u001b[0m\u001b[1;33m\u001b[0m\u001b[1;33m\u001b[0m\u001b[0m\n\u001b[0m\u001b[0;32m     13\u001b[0m         \u001b[0mp\u001b[0m \u001b[1;33m+=\u001b[0m \u001b[1;36m1\u001b[0m\u001b[1;33m\u001b[0m\u001b[1;33m\u001b[0m\u001b[0m\n\u001b[0;32m     14\u001b[0m     \u001b[0mprime\u001b[0m\u001b[1;33m[\u001b[0m\u001b[1;36m0\u001b[0m\u001b[1;33m]\u001b[0m\u001b[1;33m=\u001b[0m \u001b[1;32mFalse\u001b[0m\u001b[1;33m\u001b[0m\u001b[1;33m\u001b[0m\u001b[0m\n",
      "\u001b[1;31mIndexError\u001b[0m: list assignment index out of range"
     ]
    }
   ],
   "source": [
    "T = int(input())\n",
    "for z in range(T):\n",
    "    k=input()\n",
    "    (m,n)=k.split()\n",
    "    prime = [True for i in range(int(m),int(n) + 1)] \n",
    "    p = 2\n",
    "    while (p * p <= int(n)): \n",
    "        # If prime[p] is not changed, then it is a prime \n",
    "        if (prime[p] == True):\n",
    "        # Update all multiples of p \n",
    "            for i in range(p * 2, int(n) + 1, p): \n",
    "                prime[i] = False\n",
    "        p += 1\n",
    "    prime[0]= False\n",
    "    prime[1]= False\n",
    "    # Print all prime numbers \n",
    "    for p in range(int(n) + 1): \n",
    "        if prime[p]: \n",
    "            print (p)"
   ]
  },
  {
   "cell_type": "code",
   "execution_count": 6,
   "metadata": {},
   "outputs": [
    {
     "name": "stdout",
     "output_type": "stream",
     "text": [
      "1\n",
      "1 5\n",
      "2\n",
      "3\n",
      "5\n"
     ]
    }
   ],
   "source": [
    "import math\n",
    "\n",
    "def isPrime(num):\n",
    "    if num < 2:\n",
    "        return False\n",
    "    elif num == 2:\n",
    "        return True\n",
    "    elif num % 2 == 0:\n",
    "        return False\n",
    "    else:\n",
    "        n = int(math.sqrt(num))\n",
    "        for i in range(3, n + 1, 2):\n",
    "            if num % i == 0:\n",
    "                return False\n",
    "        return True\n",
    "\n",
    "\n",
    "for i in range(0, int(input())):\n",
    "    x, y = map(int, input().split())\n",
    "    for j in range(x, y + 1):\n",
    "        if isPrime(j):\n",
    "            print(j)"
   ]
  },
  {
   "cell_type": "code",
   "execution_count": 12,
   "metadata": {},
   "outputs": [
    {
     "name": "stdout",
     "output_type": "stream",
     "text": [
      "\n"
     ]
    }
   ],
   "source": [
    "from math import sqrt\n",
    "try:\n",
    "    def check_prime(n):\n",
    "        x=int(sqrt(n))\n",
    "        if n<=1:\n",
    "            return False\n",
    "        if n<=3:\n",
    "            return True\n",
    "        if n%2==0 or n%3==0:\n",
    "            return False\n",
    "        i=5\n",
    "        while i<=x:\n",
    "            if n%i==0 or n%(i+2)==0:\n",
    "                return False\n",
    "            i=i+6\n",
    "        return True\n",
    "\n",
    "    t=int(input())\n",
    "    while t>0:\n",
    "        m,n=map(int,input().split( ))\n",
    "        for i in range(m,n+1):\n",
    "            if check_prime(i) or i==2:\n",
    "                print(i)\n",
    "        #print()\n",
    "        t-=1\n",
    "except EOFError:\n",
    "    None\n",
    "except ValueError:\n",
    "    None"
   ]
  },
  {
   "cell_type": "code",
   "execution_count": null,
   "metadata": {},
   "outputs": [],
   "source": []
  }
 ],
 "metadata": {
  "kernelspec": {
   "display_name": "Python 3",
   "language": "python",
   "name": "python3"
  },
  "language_info": {
   "codemirror_mode": {
    "name": "ipython",
    "version": 3
   },
   "file_extension": ".py",
   "mimetype": "text/x-python",
   "name": "python",
   "nbconvert_exporter": "python",
   "pygments_lexer": "ipython3",
   "version": "3.7.3"
  }
 },
 "nbformat": 4,
 "nbformat_minor": 2
}
