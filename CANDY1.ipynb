{
 "cells": [
  {
   "cell_type": "code",
   "execution_count": null,
   "metadata": {},
   "outputs": [],
   "source": [
    "while True:\n",
    "    n=int(input()) #n=5\n",
    "    if n is -1: \n",
    "        break\n",
    "    #SUM=0\n",
    "    array=[] #example[6,7,5,3,4]\n",
    "    moves=0\n",
    "    for i in range(0,n):      \n",
    "        i=int(input())\n",
    "        array.append(i)\n",
    "        #SUM+=i\n",
    "    SUM=sum(array) #SUM= 25\n",
    "    if SUM%n: # executes if remainder \n",
    "        print (-1)\n",
    "    else:    # executes if NO remainder -->25/5= 0\n",
    "        average = SUM/n #average= 5\n",
    "        for i in array:\n",
    "            if i>average: \n",
    "                temp=int(i-average) #temp= 7-5=2, 6-5=1 -->total 2+1=3\n",
    "                moves+=temp\n",
    "        print (int(moves)) # 3 moves"
   ]
  }
 ],
 "metadata": {
  "kernelspec": {
   "display_name": "Python 3",
   "language": "python",
   "name": "python3"
  },
  "language_info": {
   "codemirror_mode": {
    "name": "ipython",
    "version": 3
   },
   "file_extension": ".py",
   "mimetype": "text/x-python",
   "name": "python",
   "nbconvert_exporter": "python",
   "pygments_lexer": "ipython3",
   "version": "3.7.3"
  }
 },
 "nbformat": 4,
 "nbformat_minor": 2
}
