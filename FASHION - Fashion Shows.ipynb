{
 "cells": [
  {
   "cell_type": "code",
   "execution_count": 1,
   "metadata": {},
   "outputs": [
    {
     "name": "stdout",
     "output_type": "stream",
     "text": [
      "2\n",
      "2\n",
      "1 1\n",
      "3 2\n",
      "5\n",
      "3\n",
      "2 3 2\n",
      "1 3 2\n",
      "15\n"
     ]
    }
   ],
   "source": [
    "for tc in range(int(input())):\n",
    "    n=int(input())\n",
    "    guy=sorted(map(int,input().split()))[::-1]\n",
    "    girl=sorted(map(int,input().split()))[::-1]\n",
    "    sum = 0\n",
    "    for i in range(0,n):\n",
    "        sum+= guy[i]*girl[i]\n",
    "    print (sum)"
   ]
  }
 ],
 "metadata": {
  "kernelspec": {
   "display_name": "Python 3",
   "language": "python",
   "name": "python3"
  },
  "language_info": {
   "codemirror_mode": {
    "name": "ipython",
    "version": 3
   },
   "file_extension": ".py",
   "mimetype": "text/x-python",
   "name": "python",
   "nbconvert_exporter": "python",
   "pygments_lexer": "ipython3",
   "version": "3.7.3"
  }
 },
 "nbformat": 4,
 "nbformat_minor": 2
}
