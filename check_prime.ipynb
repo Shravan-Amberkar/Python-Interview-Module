{
 "cells": [
  {
   "cell_type": "code",
   "execution_count": null,
   "metadata": {},
   "outputs": [],
   "source": [
    "from math import sqrt\n",
    "try:\n",
    "    def check_prime(n):\n",
    "        x=int(sqrt(n))\n",
    "        if n<=1:\n",
    "            return False\n",
    "        if n<=3:\n",
    "            return True\n",
    "        if n%2==0 or n%3==0:\n",
    "            return False\n",
    "        i=5\n",
    "        while i<=x:\n",
    "            if n%i==0 or n%(i+2)==0:\n",
    "                return False\n",
    "            i=i+6\n",
    "        return True\n",
    "\n",
    "    t=int(input())\n",
    "    while t>0:\n",
    "        m,n=map(int,input().split( ))\n",
    "        for i in range(m,n+1):\n",
    "            if check_prime(i) or i==2:\n",
    "                print(i)\n",
    "        #print()\n",
    "        t-=1\n",
    "except EOFError:\n",
    "    None\n",
    "except ValueError:\n",
    "    None"
   ]
  }
 ],
 "metadata": {
  "kernelspec": {
   "display_name": "Python 3",
   "language": "python",
   "name": "python3"
  },
  "language_info": {
   "codemirror_mode": {
    "name": "ipython",
    "version": 3
   },
   "file_extension": ".py",
   "mimetype": "text/x-python",
   "name": "python",
   "nbconvert_exporter": "python",
   "pygments_lexer": "ipython3",
   "version": "3.7.3"
  }
 },
 "nbformat": 4,
 "nbformat_minor": 2
}
