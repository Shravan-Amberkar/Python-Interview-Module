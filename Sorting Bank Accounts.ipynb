{
 "cells": [
  {
   "cell_type": "code",
   "execution_count": null,
   "metadata": {},
   "outputs": [],
   "source": [
    "try:\n",
    "    for tc in range(int(input())):\n",
    "        accounts=[]\n",
    "        new_name=[]\n",
    "        count={}\n",
    "        for n in range(int(input())):\n",
    "            accounts.append(input())\n",
    "        accounts.sort() \n",
    "        for i in accounts:\n",
    "            count[i]=count.get(i,0)+1 \n",
    "        for key,value in count.items():\n",
    "            new_name.append(key + str(value))\n",
    "        new_name.sort(key = lambda new_name: new_name[:31])\n",
    "        for i in new_name:\n",
    "            print(i)\n",
    "        blank=input()\n",
    "        print(blank)\n",
    "except EOFError:\n",
    "    None\n",
    "except ValueError:\n",
    "    None"
   ]
  }
 ],
 "metadata": {
  "kernelspec": {
   "display_name": "Python 3",
   "language": "python",
   "name": "python3"
  },
  "language_info": {
   "codemirror_mode": {
    "name": "ipython",
    "version": 3
   },
   "file_extension": ".py",
   "mimetype": "text/x-python",
   "name": "python",
   "nbconvert_exporter": "python",
   "pygments_lexer": "ipython3",
   "version": "3.7.3"
  }
 },
 "nbformat": 4,
 "nbformat_minor": 2
}
