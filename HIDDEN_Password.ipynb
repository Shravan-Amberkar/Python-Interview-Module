{
 "cells": [
  {
   "cell_type": "code",
   "execution_count": null,
   "metadata": {},
   "outputs": [],
   "source": [
    "###################\n",
    "# HIDDEN PASSWORD #\n",
    "###################\n",
    "def get_input_from_console():\n",
    "    num_cases = int(input())\n",
    "    tuple_strings = []\n",
    "    code_strings = []\n",
    "    for i in range(num_cases):\n",
    "        num_tuples = int(input())\n",
    "        tuple_string = input()\n",
    "        code_string = input()\n",
    "        tuple_strings.append(tuple_string)\n",
    "        code_strings.append(code_string)\n",
    "        if (i < num_cases - 1):\n",
    "            blank = input()\n",
    "    tuple_strings = list(map(\n",
    "        lambda s: s.split(),\n",
    "        tuple_strings\n",
    "    ))\n",
    "    return [(tuple_strings[i], code_strings[i]) for i in range(len(tuple_strings)) if i < len(code_strings)]\n",
    "\n",
    "def get_nums_from_tuple(t):\n",
    "    a = 0\n",
    "    b = 0\n",
    "    for i in range(len(t)):\n",
    "        mask_a = 1 << i\n",
    "        shift_b = (i + 3) % 6\n",
    "        mask_b = 1 << shift_b\n",
    "        a |= (mask_a & ord(t[i]))\n",
    "        b |= ((mask_b & ord(t[i])) >> 3 if i + 3 < 6 else (mask_b & ord(t[i])) << 3)\n",
    "    return [a, b]\n",
    "\n",
    "def decode(input_data):\n",
    "    decrypts = []\n",
    "    for pair in input_data:\n",
    "        ans = ''\n",
    "        for t in pair[0]:\n",
    "            nums = get_nums_from_tuple(t)\n",
    "            ans += (pair[1][nums[0]] + pair[1][nums[1]])\n",
    "        decrypts.append(ans)\n",
    "    return decrypts\n",
    "\n",
    "input_data = get_input_from_console()\n",
    "decrypts = decode(input_data)\n",
    "for decrypt in decrypts:\n",
    "    print(decrypt)"
   ]
  }
 ],
 "metadata": {
  "kernelspec": {
   "display_name": "Python 3",
   "language": "python",
   "name": "python3"
  },
  "language_info": {
   "codemirror_mode": {
    "name": "ipython",
    "version": 3
   },
   "file_extension": ".py",
   "mimetype": "text/x-python",
   "name": "python",
   "nbconvert_exporter": "python",
   "pygments_lexer": "ipython3",
   "version": "3.7.3"
  }
 },
 "nbformat": 4,
 "nbformat_minor": 2
}
