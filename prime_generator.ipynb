{
 "cells": [
  {
   "cell_type": "code",
   "execution_count": null,
   "metadata": {},
   "outputs": [],
   "source": [
    "##############################\n",
    "# PRIME GENERATOR- 5.6 secs  #\n",
    "##############################\n",
    "\n",
    "def primes_up_to_n(n):\n",
    "    all_ = [ {\"number\": i, \"value\": True} for i in range(n) ]\n",
    "    all_[0][\"value\"] = False\n",
    "    all_[1][\"value\"] = False\n",
    "    \n",
    "    def _get_first(full_list):\n",
    "        for element in full_list:\n",
    "            if element[\"value\"]:\n",
    "                return element\n",
    "\n",
    "    first = _get_first(all_) \n",
    "    while first:\n",
    "        yield first[\"number\"]\n",
    "        for i in range(0, n, first[\"number\"]):\n",
    "            all_[i][\"value\"] = False\n",
    "        first = _get_first(all_) \n",
    "\n",
    "\n",
    "def is_prime(num, primes_to_try):\n",
    "    if num == 1:\n",
    "        return False\n",
    "    else:\n",
    "        for p in primes_to_try:\n",
    "            if num == p:\n",
    "                return True\n",
    "            if num % p == 0:\n",
    "                return False\n",
    "        return True\n",
    "\n",
    "\n",
    "if __name__ == \"__main__\":\n",
    "    t = int(input())\n",
    "    for t in range(t):\n",
    "        n, m = map(int, input().split())\n",
    "        max_primes = list(primes_up_to_n(int(m**0.5) + 1))\n",
    "        for i in range(n, m + 1):\n",
    "            if is_prime(i, primes_to_try=max_primes):\n",
    "                print(i)"
   ]
  }
 ],
 "metadata": {
  "kernelspec": {
   "display_name": "Python 3",
   "language": "python",
   "name": "python3"
  },
  "language_info": {
   "codemirror_mode": {
    "name": "ipython",
    "version": 3
   },
   "file_extension": ".py",
   "mimetype": "text/x-python",
   "name": "python",
   "nbconvert_exporter": "python",
   "pygments_lexer": "ipython3",
   "version": "3.7.3"
  }
 },
 "nbformat": 4,
 "nbformat_minor": 2
}
