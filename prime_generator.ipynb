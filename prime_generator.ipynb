{
 "cells": [
  {
   "cell_type": "code",
   "execution_count": null,
   "metadata": {},
   "outputs": [],
   "source": [
    "###################################################\n",
    "#  PALIN - The Next Palindrome - PERFECT SOLUTION #\n",
    "###################################################\n",
    "try:\n",
    "    def calc(K):\n",
    "        length = len(K)\n",
    "        l = len(K)//2\n",
    "        str1 = K[0:l]\n",
    "        str2 = str1[::-1]\n",
    "        if K.count(\"9\")==length:\n",
    "            ans = \"1\"+\"0\"*(length-1)+\"1\"\n",
    "            return ans\n",
    "        \n",
    "        if length%2==0:\n",
    "            num = str1 + str2\n",
    "            if num>K:\n",
    "                ans = num\n",
    "                return ans\n",
    "            else:\n",
    "                num = str(int(str1)+1)\n",
    "                ans = num+num[::-1]\n",
    "                return ans\n",
    "        else:\n",
    "            num = str1+K[l]+str2\n",
    "            if num>K:\n",
    "                ans = num\n",
    "                return ans\n",
    "            else:\n",
    "                c = str(int(str1+K[l])+1)\n",
    "                num = c+c[0:-1][::-1]\n",
    "                ans = num\n",
    "                return ans\n",
    "\n",
    "    T = int(input())\n",
    "    for z in range(T):\n",
    "        K = input()\n",
    "        print(calc(K))\n",
    "\n",
    "except EOFError:\n",
    "    None\n",
    "except ValueError:\n",
    "    None"
   ]
  }
 ],
 "metadata": {
  "kernelspec": {
   "display_name": "Python 3",
   "language": "python",
   "name": "python3"
  },
  "language_info": {
   "codemirror_mode": {
    "name": "ipython",
    "version": 3
   },
   "file_extension": ".py",
   "mimetype": "text/x-python",
   "name": "python",
   "nbconvert_exporter": "python",
   "pygments_lexer": "ipython3",
   "version": "3.7.3"
  }
 },
 "nbformat": 4,
 "nbformat_minor": 2
}
