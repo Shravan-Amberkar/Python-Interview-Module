{
 "cells": [
  {
   "cell_type": "code",
   "execution_count": null,
   "metadata": {},
   "outputs": [],
   "source": [
    "\"\"\"\n",
    "SPOJ-ONP Transform the Expression\n",
    "Infix to Postfix Conversion\n",
    "Reverse Polish Notation\n",
    "STACK-->PUSH(append) & POP method--> Last in First Out (LIFO)\n",
    "Input:((a+t)*((b+(a+c))^(c+d)))-->Output:at+bac++cd+\n",
    "\n",
    "NOTE- 1)order of precedence NOT taken into consideration since only Two-argument operators used\n",
    "      2) expression must begin and end with paranthesis\n",
    "\n",
    "ALOGRITHM\n",
    "1--> make a list(stack[]) of all operators by appending(push).\n",
    "2--> if \")\" if detected pop all last element of stack[] in temp(last) variable till first \"(\" is detected.\n",
    "        2(i)--> add temp to output string\n",
    "3--> else if operand is detected append it to output\n",
    "4--> pop the first \"(\"\n",
    "\n",
    "\"\"\"\n",
    "t=int(input())\n",
    "while(t>0):\n",
    "    infix=list(input()) \n",
    "    stack=[]\n",
    "    output=''\n",
    "    for i in infix:\n",
    "        if i=='(' or i=='+' or i=='-' or i=='*' or i=='/' or i=='^':\n",
    "            stack.append(i)            \n",
    "        elif i==')':\n",
    "            while(stack[-1]!='('):\n",
    "                last=stack.pop()\n",
    "                if last!='(':\n",
    "                    output+=last\n",
    "            stack.pop()                # pop the first \"(\"\n",
    "        else:\n",
    "            output+=i\n",
    "    print (output)\n",
    "    t-=1"
   ]
  },
  {
   "cell_type": "code",
   "execution_count": 12,
   "metadata": {},
   "outputs": [
    {
     "name": "stdout",
     "output_type": "stream",
     "text": [
      "1\n",
      "((a+t)*((b+(a+c))^(c+d)))\n",
      "at+bac++cd+^*\n"
     ]
    }
   ],
   "source": [
    "# with precedence\n",
    "\"\"\"Algorithm for the below approach is as follows:\n",
    "X is input string and Y is output string.\n",
    "Step 1: Scan X from left to right until its end.\n",
    "Step 2: If element is operand add to Y.\n",
    "Step 3: If element is \"(\" push to stack.\n",
    "Step 4: If element is operator:\n",
    "    a.) Repeatedly pop from stack and add to Y each operator which has same or higher precendence than the element operator.\n",
    "    b.) Add element operaor to stack.\n",
    "Step 5.) If element is \")\":\n",
    "    a.) Repeatedly pop from stack & add to Y until \"(\" is encountered.\n",
    "    b.) Remove \"(\" from the stack.\"\"\"\n",
    "\n",
    "\n",
    "operators=[\"+\", \"-\", \"*\", \"/\", \"^\"]\n",
    "precedence={\"+\":0, \"-\":1, \"*\":2, \"/\":3, \"^\":4}\n",
    "alpha='abcdefghijklmnopqrstuvwxyz'\n",
    "\n",
    "def preCheck(op1,op2):\n",
    "    if precedence[op1]>=precedence[op2]:\n",
    "        return True\n",
    "    else: return False\n",
    "    \n",
    "def main():\n",
    "    t=int(input())\n",
    "    for i in range(t):\n",
    "        X=input()\n",
    "        stack=[]\n",
    "        Y=''\n",
    "        for e in X:\n",
    "            if e== \"(\":\n",
    "                stack.append(e)\n",
    "            elif e in alpha:\n",
    "                Y+=e\n",
    "            elif e in operators:\n",
    "                while stack[-1] in operators:\n",
    "                    if preCheck(stack[-1],e):\n",
    "                        Y+=stack.pop()\n",
    "                stack.append(e)\n",
    "            elif e==')':\n",
    "                while not stack[-1]=='(':\n",
    "                    Y+=stack.pop()\n",
    "                stack.pop()\n",
    "            \n",
    "        while not len(stack)==0:\n",
    "            if stack[-1]=='(':\n",
    "                stack.pop()\n",
    "            else:\n",
    "                Y+=stack.pop() \n",
    "                \n",
    "        print (Y)\n",
    "                       \n",
    "\n",
    "main()"
   ]
  },
  {
   "cell_type": "code",
   "execution_count": 7,
   "metadata": {},
   "outputs": [
    {
     "name": "stdout",
     "output_type": "stream",
     "text": [
      "1\n",
      "(a+(b+c))\n",
      "abc++\n"
     ]
    }
   ],
   "source": [
    "#Sophisticated version\n",
    "\n",
    "for i in range(int(input())):\n",
    "    n=input()\n",
    "    v=[]\n",
    "    o=[]\n",
    "    ans=''\n",
    "    for j in n:\n",
    "        if j=='(':\n",
    "            pass\n",
    "        elif j in ['+','-','*','/','^']:\n",
    "            o.append(j)\n",
    "            if v:\n",
    "                ans+=v.pop()\n",
    "        elif j==')':\n",
    "            if v:          # executes if v is NOT empty\n",
    "                ans+=v.pop()\n",
    "            ans+=o.pop()   # executes if v is empty\n",
    "        else:\n",
    "            v.append(j)\n",
    "    print(ans)"
   ]
  },
  {
   "cell_type": "code",
   "execution_count": 30,
   "metadata": {},
   "outputs": [
    {
     "name": "stdout",
     "output_type": "stream",
     "text": [
      "1\n",
      "(a+(b*c))\n",
      "abc*+\n"
     ]
    }
   ],
   "source": [
    "# MOST SOphisticated and SPACE optimization \n",
    "\n",
    "for tc in range(int(input())):\n",
    "    s = input()\n",
    "    a = []\n",
    "    for i in s:\n",
    "        if i.isalpha(): # Python string method isalpha() checks whether the string consists of alphabetic characters only.\n",
    "            print(i, end='') # \"abc\"\n",
    "        elif i == ')':\n",
    "            print(a[-1], end='') #\"*+\"\n",
    "            a.pop() # LIF0\n",
    "        elif i != '(':\n",
    "            a.append(i) # a=[+,*] \n",
    "    print()   # to print next out on next line"
   ]
  }
 ],
 "metadata": {
  "kernelspec": {
   "display_name": "Python 3",
   "language": "python",
   "name": "python3"
  },
  "language_info": {
   "codemirror_mode": {
    "name": "ipython",
    "version": 3
   },
   "file_extension": ".py",
   "mimetype": "text/x-python",
   "name": "python",
   "nbconvert_exporter": "python",
   "pygments_lexer": "ipython3",
   "version": "3.7.3"
  }
 },
 "nbformat": 4,
 "nbformat_minor": 2
}
