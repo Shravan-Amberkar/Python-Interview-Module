{
 "cells": [
  {
   "cell_type": "code",
   "execution_count": null,
   "metadata": {},
   "outputs": [],
   "source": [
    "# SPOJ-LASTDIG - The last digit\n",
    "# last digit of pow(ab)\n",
    "# MODULAR EXPONENTION----> O(n) -->0 <= b <= 2,147,483,000 \n",
    "# if done w/o modular exponention for large b values--> TLE\n",
    "t=int(input())\n",
    "while t:\n",
    "    t-=1\n",
    "    a,b = map(int,input().split())\n",
    "    if b<=4:\n",
    "        print (str(pow(a,b))[-1])\n",
    "    else:\n",
    "        if b%4: # executes if remainder is NOT ZERO\n",
    "            print (str(pow(a,b%4))[-1])\n",
    "        else: # executes if remainder is ZERO\n",
    "            print (str(pow(a,4))[-1])"
   ]
  }
 ],
 "metadata": {
  "kernelspec": {
   "display_name": "Python 3",
   "language": "python",
   "name": "python3"
  },
  "language_info": {
   "codemirror_mode": {
    "name": "ipython",
    "version": 3
   },
   "file_extension": ".py",
   "mimetype": "text/x-python",
   "name": "python",
   "nbconvert_exporter": "python",
   "pygments_lexer": "ipython3",
   "version": "3.7.3"
  }
 },
 "nbformat": 4,
 "nbformat_minor": 2
}
