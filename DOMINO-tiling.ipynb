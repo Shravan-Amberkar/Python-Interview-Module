{
 "cells": [
  {
   "cell_type": "code",
   "execution_count": null,
   "metadata": {},
   "outputs": [],
   "source": [
    "n=int(input())\n",
    "s1=list(map(int,input().split()))\n",
    "s2=list(map(int,input().split()))\n",
    "\n",
    "prev=0\n",
    "result=abs(s1[0]-s2[0])\n",
    "for i in range(1,n):\n",
    "    vertical=result+abs(s1[i]-s2[i])\n",
    "    horizontal=prev+abs(s1[i]-s1[i-1])+abs(s2[i]-s2[i-1])\n",
    "    prev=result\n",
    "    result=max(vertical,horizontal)\n",
    "print(result)\n",
    "\n",
    "\"\"\"\n",
    "input\n",
    "4--> number of grid\n",
    "8 6 2 3\n",
    "9 7 1 2\n",
    "################\n",
    "output\n",
    "12\n",
    "\"\"\""
   ]
  },
  {
   "cell_type": "code",
   "execution_count": null,
   "metadata": {},
   "outputs": [],
   "source": [
    "N = int(input())  # 8 6 2 3  # 9 7 1 2\n",
    " \n",
    "grid = []\n",
    "grid.append(list(map(int, input().split())))\n",
    "grid.append(list(map(int, input().split())))\n",
    "values = [0] * N\n",
    "values[0] = abs(grid[0][0] - grid[1][0])\n",
    "\n",
    "vert = abs(grid[0][0] - grid[1][0]) + abs(grid[0][1] - grid[1][1])      \n",
    "hori = abs(grid[0][0] - grid[0][1]) + abs(grid[1][0] - grid[1][1])      \n",
    "values[1] = max(vert, hori)\n",
    "\n",
    "for index in range (2, N):\n",
    "    vert = abs(grid[0][index] - grid[1][index])\n",
    "    hori = abs(grid[0][index] - grid[0][index-1]) + abs(grid[1][index] - grid[1][index-1])\n",
    "    values[index] = max(vert + values[index-1], hori + values[index-2])\n",
    "\n",
    "print(values[N-1])"
   ]
  }
 ],
 "metadata": {
  "kernelspec": {
   "display_name": "Python 3",
   "language": "python",
   "name": "python3"
  },
  "language_info": {
   "codemirror_mode": {
    "name": "ipython",
    "version": 3
   },
   "file_extension": ".py",
   "mimetype": "text/x-python",
   "name": "python",
   "nbconvert_exporter": "python",
   "pygments_lexer": "ipython3",
   "version": "3.7.3"
  }
 },
 "nbformat": 4,
 "nbformat_minor": 2
}
